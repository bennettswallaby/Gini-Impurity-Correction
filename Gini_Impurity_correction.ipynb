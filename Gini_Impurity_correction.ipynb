{
  "nbformat": 4,
  "nbformat_minor": 0,
  "metadata": {
    "colab": {
      "provenance": [],
      "toc_visible": true
    },
    "kernelspec": {
      "name": "python3",
      "display_name": "Python 3"
    },
    "language_info": {
      "name": "python"
    }
  },
  "cells": [
    {
      "cell_type": "markdown",
      "source": [
        "#### Author : Divyansh Palia\n",
        "#### Github : bennettswallaby\n",
        "#### Linkedln : divyanshpalia/ln\n",
        "#### Twitter : dpaliaforever"
      ],
      "metadata": {
        "id": "5A-fFmiYXF8k"
      }
    },
    {
      "cell_type": "code",
      "source": [
        "import numpy as np\n",
        "import pandas as pd\n",
        "import os\n",
        "import matplotlib.pyplot as plt"
      ],
      "metadata": {
        "id": "4rmqyn6LVq-i"
      },
      "execution_count": 16,
      "outputs": []
    },
    {
      "cell_type": "markdown",
      "source": [
        "####A figure is created to show Gini ımpurity measures "
      ],
      "metadata": {
        "id": "EkD4YtJ5XDqG"
      }
    },
    {
      "cell_type": "code",
      "source": [
        "\n",
        "plt.figure()\n",
        "x = np.linspace(0.01,1)\n",
        "y = 1 - (x*x) - (1-x)*(1-x) \n",
        "plt.plot(x,y)\n",
        "plt.title('Gini Impurity')\n",
        "plt.xlabel(\"Fraction of Class k ($p_k$)\")\n",
        "plt.ylabel(\"Impurity Measure\")\n",
        "plt.xticks(np.arange(0,1.1,0.1))\n",
        "\n",
        "plt.show()"
      ],
      "metadata": {
        "colab": {
          "base_uri": "https://localhost:8080/",
          "height": 299
        },
        "id": "VXwupTVIWYia",
        "outputId": "13419e77-a4d7-43d4-d6b3-adcde304e6be"
      },
      "execution_count": 17,
      "outputs": [
        {
          "output_type": "display_data",
          "data": {
            "text/plain": [
              "<Figure size 432x288 with 1 Axes>"
            ],
            "image/png": "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\n"
          },
          "metadata": {
            "needs_background": "light"
          }
        }
      ]
    },
    {
      "cell_type": "code",
      "source": [
        "attribute_names =  ['age', 'income','student', 'credit_rate']\n",
        "class_name = 'default'\n",
        "data1 ={\n",
        "    'age' : ['youth', 'youth', 'middle_age', 'senior', 'senior', 'senior','middle_age', 'youth', 'youth', 'senior', 'youth', 'middle_age','middle_age', 'senior'],\n",
        "    'income' : ['high', 'high', 'high', 'medium', 'low', 'low', 'low', 'medium','low', 'medium', 'medium', 'medium', 'high', 'medium'],\n",
        "    'student' : ['no','no','no','no','yes','yes','yes','no','yes','yes','yes','no','yes','no'],\n",
        "    'credit_rate' : ['fair', 'excellent', 'fair', 'fair', 'fair', 'excellent', 'excellent', 'fair', 'fair', 'fair','excellent', 'excellent', 'fair', 'excellent'],\n",
        "    'default' : ['no', 'no', 'yes', 'yes', 'yes', 'no', 'yes', 'no', 'yes', 'yes','yes', 'yes', 'yes', 'no']\n",
        "}\n",
        "df1 = pd.DataFrame (data1, columns=data1.keys())\n",
        "print(df1)"
      ],
      "metadata": {
        "colab": {
          "base_uri": "https://localhost:8080/"
        },
        "id": "a11amJYXWbSn",
        "outputId": "1e811234-ee18-4a73-e9e3-218a88094d83"
      },
      "execution_count": 18,
      "outputs": [
        {
          "output_type": "stream",
          "name": "stdout",
          "text": [
            "           age  income student credit_rate default\n",
            "0        youth    high      no        fair      no\n",
            "1        youth    high      no   excellent      no\n",
            "2   middle_age    high      no        fair     yes\n",
            "3       senior  medium      no        fair     yes\n",
            "4       senior     low     yes        fair     yes\n",
            "5       senior     low     yes   excellent      no\n",
            "6   middle_age     low     yes   excellent     yes\n",
            "7        youth  medium      no        fair      no\n",
            "8        youth     low     yes        fair     yes\n",
            "9       senior  medium     yes        fair     yes\n",
            "10       youth  medium     yes   excellent     yes\n",
            "11  middle_age  medium      no   excellent     yes\n",
            "12  middle_age    high     yes        fair     yes\n",
            "13      senior  medium      no   excellent      no\n"
          ]
        }
      ]
    },
    {
      "cell_type": "markdown",
      "source": [
        "#### STEP 1: Calculate gini(D)"
      ],
      "metadata": {
        "id": "6whl0yCzXAly"
      }
    },
    {
      "cell_type": "code",
      "source": [
        "\n",
        "def gini_impurity (value_counts):\n",
        "    n = value_counts.sum()\n",
        "    p_sum = 0\n",
        "    for key in value_counts.keys():\n",
        "        p_sum = p_sum  +  (value_counts[key] / n ) * (value_counts[key] / n ) \n",
        "    gini = 1 - p_sum\n",
        "    return gini\n",
        "\n",
        "class_value_counts = df1[class_name].value_counts()\n",
        "print(f'Number of samples in each class is:\\n{class_value_counts}')\n",
        "\n",
        "gini_class = gini_impurity(class_value_counts)\n",
        "print(f'\\nGini Impurity of the class is {gini_class:.3f}')"
      ],
      "metadata": {
        "colab": {
          "base_uri": "https://localhost:8080/"
        },
        "id": "knk1dEjHWd9P",
        "outputId": "17ff4cf1-126f-46e5-cfff-9d5a5ad30147"
      },
      "execution_count": 19,
      "outputs": [
        {
          "output_type": "stream",
          "name": "stdout",
          "text": [
            "Number of samples in each class is:\n",
            "yes    9\n",
            "no     5\n",
            "Name: default, dtype: int64\n",
            "\n",
            "Gini Impurity of the class is 0.459\n"
          ]
        }
      ]
    },
    {
      "cell_type": "markdown",
      "source": [
        "#### STEP 2: Calculating  gini impurity for the attiributes\n"
      ],
      "metadata": {
        "id": "pqc3vUFoW71e"
      }
    },
    {
      "cell_type": "code",
      "source": [
        "def gini_split_a(attribute_name):\n",
        "    attribute_values = df1[attribute_name].value_counts()\n",
        "    gini_A = 0 \n",
        "    for key in attribute_values.keys():\n",
        "        df_k = df1[class_name][df1[attribute_name] == key].value_counts()\n",
        "        n_k = attribute_values[key]\n",
        "        n = df1.shape[0]\n",
        "        gini_A = gini_A + (( n_k / n) * gini_impurity(df_k))\n",
        "    return gini_A\n",
        "\n",
        "gini_attiribute ={}\n",
        "for key in attribute_names:\n",
        "    gini_attiribute[key] = gini_split_a(key)\n",
        "    print(f'Gini for {key} is {gini_attiribute[key]:.3f}')"
      ],
      "metadata": {
        "colab": {
          "base_uri": "https://localhost:8080/"
        },
        "id": "ldxOYDwqWgyH",
        "outputId": "8a191c5e-404e-4e09-c85f-7debe0a76b30"
      },
      "execution_count": 20,
      "outputs": [
        {
          "output_type": "stream",
          "name": "stdout",
          "text": [
            "Gini for age is 0.343\n",
            "Gini for income is 0.440\n",
            "Gini for student is 0.367\n",
            "Gini for credit_rate is 0.429\n"
          ]
        }
      ]
    },
    {
      "cell_type": "markdown",
      "source": [
        "#### STEP 3: Compute Gini gain values to find the best split. An attribute has maximum Gini gain is selected for splitting."
      ],
      "metadata": {
        "id": "AHXHM-MmW2PI"
      }
    },
    {
      "cell_type": "code",
      "source": [
        "\n",
        "\n",
        "min_value = min(gini_attiribute.values())\n",
        "print('The minimum value of Gini Impurity : {0:.3} '.format(min_value))\n",
        "print('The maximum value of Gini Gain     : {0:.3} '.format(1-min_value))\n",
        "\n",
        "selected_attribute = min(gini_attiribute.keys())\n",
        "print('The selected attiribute is: ', selected_attribute)"
      ],
      "metadata": {
        "colab": {
          "base_uri": "https://localhost:8080/"
        },
        "id": "WebSWwxKWlxe",
        "outputId": "cce2c4b7-0700-4bc0-db7d-5d1758393797"
      },
      "execution_count": 22,
      "outputs": [
        {
          "output_type": "stream",
          "name": "stdout",
          "text": [
            "The minimum value of Gini Impurity : 0.343 \n",
            "The maximum value of Gini Gain     : 0.657 \n",
            "The selected attiribute is:  age\n"
          ]
        }
      ]
    }
  ]
  //end
}
